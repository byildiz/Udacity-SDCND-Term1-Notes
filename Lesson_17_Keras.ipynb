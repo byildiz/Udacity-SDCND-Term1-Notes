{
  "nbformat": 4,
  "nbformat_minor": 0,
  "metadata": {
    "colab": {
      "name": "Lesson 17 - Keras.ipynb",
      "version": "0.3.2",
      "provenance": [],
      "toc_visible": true,
      "include_colab_link": true
    },
    "kernelspec": {
      "name": "python3",
      "display_name": "Python 3"
    },
    "accelerator": "GPU"
  },
  "cells": [
    {
      "cell_type": "markdown",
      "metadata": {
        "id": "view-in-github",
        "colab_type": "text"
      },
      "source": [
        "<a href=\"https://colab.research.google.com/github/byildiz/Udacity-SDCND-Term1-Notes/blob/master/Lesson_17_Keras.ipynb\" target=\"_parent\"><img src=\"https://colab.research.google.com/assets/colab-badge.svg\" alt=\"Open In Colab\"/></a>"
      ]
    },
    {
      "metadata": {
        "id": "qrUBxO_dL0Jq",
        "colab_type": "text"
      },
      "cell_type": "markdown",
      "source": [
        "# Lesson 17 - Keras"
      ]
    },
    {
      "metadata": {
        "id": "YHr8LP88Lwpn",
        "colab_type": "code",
        "colab": {
          "base_uri": "https://localhost:8080/",
          "height": 289
        },
        "outputId": "dbc410f9-d379-4e7e-eeeb-fd15571aa40c"
      },
      "cell_type": "code",
      "source": [
        "!wget https://d17h27t6h515a5.cloudfront.net/topher/2017/March/58dbf6d5_small-traffic-set/small-traffic-set.zip\n",
        "!unzip small-traffic-set.zip\n",
        "!mv small_traffic_set/* ."
      ],
      "execution_count": 1,
      "outputs": [
        {
          "output_type": "stream",
          "text": [
            "--2018-11-18 14:20:46--  https://d17h27t6h515a5.cloudfront.net/topher/2017/March/58dbf6d5_small-traffic-set/small-traffic-set.zip\n",
            "Resolving d17h27t6h515a5.cloudfront.net (d17h27t6h515a5.cloudfront.net)... 54.192.75.235, 54.192.75.243, 54.192.75.192, ...\n",
            "Connecting to d17h27t6h515a5.cloudfront.net (d17h27t6h515a5.cloudfront.net)|54.192.75.235|:443... connected.\n",
            "HTTP request sent, awaiting response... 200 OK\n",
            "Length: 293758 (287K) [application/zip]\n",
            "Saving to: ‘small-traffic-set.zip’\n",
            "\n",
            "small-traffic-set.z 100%[===================>] 286.87K   300KB/s    in 1.0s    \n",
            "\n",
            "2018-11-18 14:20:48 (300 KB/s) - ‘small-traffic-set.zip’ saved [293758/293758]\n",
            "\n",
            "Archive:  small-traffic-set.zip\n",
            "   creating: small_traffic_set/\n",
            "  inflating: small_traffic_set/small_test_traffic.p  \n",
            "  inflating: small_traffic_set/small_train_traffic.p  \n",
            "mv: cannot stat 'small-traffic-set/*': No such file or directory\n"
          ],
          "name": "stdout"
        }
      ]
    },
    {
      "metadata": {
        "id": "1W3u1KpCMpS3",
        "colab_type": "code",
        "colab": {}
      },
      "cell_type": "code",
      "source": [
        "import pickle\n",
        "import numpy as np\n",
        "import tensorflow as tf\n",
        "\n",
        "# Load pickled data\n",
        "with open('small_train_traffic.p', mode='rb') as f:\n",
        "    train = pickle.load(f)\n",
        "with open('small_test_traffic.p', mode='rb') as f:\n",
        "    test = pickle.load(f)"
      ],
      "execution_count": 0,
      "outputs": []
    },
    {
      "metadata": {
        "id": "GYBa0MvjM2w_",
        "colab_type": "code",
        "colab": {}
      },
      "cell_type": "code",
      "source": [
        "# split data\n",
        "X_train, y_train = train['features'], train['labels']\n",
        "X_test, y_test = test['features'], test['labels']\n",
        "\n",
        "# preprocess data\n",
        "X_normalized = np.array(X_train / 255.0 - 0.5 )\n",
        "X_normalized_test = np.array(X_test / 255.0 - 0.5 )\n",
        "\n",
        "from sklearn.preprocessing import LabelBinarizer\n",
        "label_binarizer = LabelBinarizer()\n",
        "y_one_hot = label_binarizer.fit_transform(y_train)\n",
        "y_one_hot_test = label_binarizer.transform(y_test)"
      ],
      "execution_count": 0,
      "outputs": []
    },
    {
      "metadata": {
        "id": "yVMg20QbMHxN",
        "colab_type": "text"
      },
      "cell_type": "markdown",
      "source": [
        "## Neural Networks in Keras"
      ]
    },
    {
      "metadata": {
        "id": "yJgv_wdUM53m",
        "colab_type": "code",
        "colab": {}
      },
      "cell_type": "code",
      "source": [
        "# Setup Keras\n",
        "from keras.models import Sequential\n",
        "from keras.layers.core import Dense, Activation, Flatten"
      ],
      "execution_count": 0,
      "outputs": []
    },
    {
      "metadata": {
        "id": "dA8ANGsCM9Mh",
        "colab_type": "code",
        "colab": {}
      },
      "cell_type": "code",
      "source": [
        "# TODO: Build the Fully Connected Neural Network in Keras Here\n",
        "model = Sequential()\n",
        "model.add(Flatten(input_shape=(32, 32, 3)))\n",
        "model.add(Dense(128))\n",
        "model.add(Activation('relu'))\n",
        "model.add(Dense(5))\n",
        "model.add(Activation('softmax'))"
      ],
      "execution_count": 0,
      "outputs": []
    },
    {
      "metadata": {
        "id": "p2nNwMokNuzt",
        "colab_type": "code",
        "colab": {
          "base_uri": "https://localhost:8080/",
          "height": 136
        },
        "outputId": "bcc069c3-49fb-48f9-f4f9-11e6897db114"
      },
      "cell_type": "code",
      "source": [
        "model.compile('adam', 'categorical_crossentropy', ['accuracy'])\n",
        "# TODO: change the number of training epochs to 3\n",
        "history = model.fit(X_normalized, y_one_hot, epochs=3, validation_split=0.2)"
      ],
      "execution_count": 39,
      "outputs": [
        {
          "output_type": "stream",
          "text": [
            "Train on 80 samples, validate on 20 samples\n",
            "Epoch 1/3\n",
            "80/80 [==============================] - 0s 5ms/step - loss: 1.2541 - acc: 0.5125 - val_loss: 0.8011 - val_acc: 0.6000\n",
            "Epoch 2/3\n",
            "80/80 [==============================] - 0s 320us/step - loss: 0.8991 - acc: 0.5500 - val_loss: 0.5743 - val_acc: 0.8500\n",
            "Epoch 3/3\n",
            "80/80 [==============================] - 0s 251us/step - loss: 0.6796 - acc: 0.6875 - val_loss: 0.4408 - val_acc: 0.8500\n"
          ],
          "name": "stdout"
        }
      ]
    },
    {
      "metadata": {
        "id": "YxZs0pnpOzoa",
        "colab_type": "code",
        "colab": {
          "base_uri": "https://localhost:8080/",
          "height": 68
        },
        "outputId": "bb87a2b2-4150-402f-be95-de4d2c898a34"
      },
      "cell_type": "code",
      "source": [
        "score = model.evaluate(X_normalized_test, y_one_hot_test)\n",
        "print('Test loss:', score[0])\n",
        "print('Test accuracy:', score[1])"
      ],
      "execution_count": 40,
      "outputs": [
        {
          "output_type": "stream",
          "text": [
            "\r20/20 [==============================] - 0s 171us/step\n",
            "Test loss: 0.6425862312316895\n",
            "Test accuracy: 0.6499999761581421\n"
          ],
          "name": "stdout"
        }
      ]
    },
    {
      "metadata": {
        "id": "-RflSTqpQeHY",
        "colab_type": "text"
      },
      "cell_type": "markdown",
      "source": [
        "## Convolutions in Keras"
      ]
    },
    {
      "metadata": {
        "id": "JezhGCh4QjiS",
        "colab_type": "code",
        "colab": {}
      },
      "cell_type": "code",
      "source": [
        "# Setup Keras\n",
        "from keras.models import Sequential\n",
        "from keras.layers.core import Dense, Activation, Flatten\n",
        "from keras.layers.convolutional import Conv2D"
      ],
      "execution_count": 0,
      "outputs": []
    },
    {
      "metadata": {
        "id": "fIoL8HjdQ6mp",
        "colab_type": "code",
        "colab": {}
      },
      "cell_type": "code",
      "source": [
        "# TODO: Build Convolutional Neural Network in Keras Here\n",
        "model = Sequential()\n",
        "model.add(Conv2D(32, (3, 3), padding='valid', activation='relu', input_shape=(32, 32, 3)))\n",
        "model.add(Flatten())\n",
        "model.add(Dense(128, activation='relu'))\n",
        "model.add(Dense(5, activation='softmax'))"
      ],
      "execution_count": 0,
      "outputs": []
    },
    {
      "metadata": {
        "id": "ijsCVtKSR2s7",
        "colab_type": "code",
        "colab": {
          "base_uri": "https://localhost:8080/",
          "height": 136
        },
        "outputId": "0d79f8bd-4fa8-41de-fbb1-38c578f2eeb7"
      },
      "cell_type": "code",
      "source": [
        "model.compile('adam', 'categorical_crossentropy', ['accuracy'])\n",
        "# TODO: change the number of training epochs to 3\n",
        "history = model.fit(X_normalized, y_one_hot, epochs=3, validation_split=0.2)"
      ],
      "execution_count": 43,
      "outputs": [
        {
          "output_type": "stream",
          "text": [
            "Train on 80 samples, validate on 20 samples\n",
            "Epoch 1/3\n",
            "80/80 [==============================] - 1s 9ms/step - loss: 1.5879 - acc: 0.3250 - val_loss: 0.5254 - val_acc: 0.7500\n",
            "Epoch 2/3\n",
            "80/80 [==============================] - 0s 519us/step - loss: 0.8622 - acc: 0.7125 - val_loss: 0.7515 - val_acc: 0.8500\n",
            "Epoch 3/3\n",
            "80/80 [==============================] - 0s 518us/step - loss: 0.6957 - acc: 0.8125 - val_loss: 0.2843 - val_acc: 0.8500\n"
          ],
          "name": "stdout"
        }
      ]
    },
    {
      "metadata": {
        "id": "EaPWLv-QR57H",
        "colab_type": "code",
        "colab": {
          "base_uri": "https://localhost:8080/",
          "height": 68
        },
        "outputId": "68d14703-6e7a-4828-b63f-c6440edd1c2b"
      },
      "cell_type": "code",
      "source": [
        "score = model.evaluate(X_normalized_test, y_one_hot_test)\n",
        "print('Test loss:', score[0])\n",
        "print('Test accuracy:', score[1])"
      ],
      "execution_count": 44,
      "outputs": [
        {
          "output_type": "stream",
          "text": [
            "\r20/20 [==============================] - 0s 486us/step\n",
            "Test loss: 0.435987651348114\n",
            "Test accuracy: 0.699999988079071\n"
          ],
          "name": "stdout"
        }
      ]
    },
    {
      "metadata": {
        "colab_type": "text",
        "id": "Lx403EkJS5uK"
      },
      "cell_type": "markdown",
      "source": [
        "## Pooling in Keras"
      ]
    },
    {
      "metadata": {
        "colab_type": "code",
        "id": "CbTHF7OBS5uO",
        "colab": {}
      },
      "cell_type": "code",
      "source": [
        "# Setup Keras\n",
        "from keras.models import Sequential\n",
        "from keras.layers.core import Dense, Activation, Flatten\n",
        "from keras.layers.convolutional import Conv2D\n",
        "from keras.layers.pooling import MaxPooling2D"
      ],
      "execution_count": 0,
      "outputs": []
    },
    {
      "metadata": {
        "colab_type": "code",
        "id": "DOvIMlnoS5uW",
        "colab": {}
      },
      "cell_type": "code",
      "source": [
        "# TODO: Build Convolutional Neural Network in Keras Here\n",
        "model = Sequential()\n",
        "model.add(Conv2D(32, (3, 3), padding='valid', activation='relu', input_shape=(32, 32, 3)))\n",
        "model.add(MaxPooling2D(pool_size=(2, 2)))\n",
        "model.add(Flatten())\n",
        "model.add(Dense(128, activation='relu'))\n",
        "model.add(Dense(5, activation='softmax'))"
      ],
      "execution_count": 0,
      "outputs": []
    },
    {
      "metadata": {
        "colab_type": "code",
        "outputId": "016ff994-5e95-4f9c-f869-201369440e53",
        "id": "76cfSUNhS5ud",
        "colab": {
          "base_uri": "https://localhost:8080/",
          "height": 136
        }
      },
      "cell_type": "code",
      "source": [
        "model.compile('adam', 'categorical_crossentropy', ['accuracy'])\n",
        "# TODO: change the number of training epochs to 3\n",
        "history = model.fit(X_normalized, y_one_hot, epochs=3, validation_split=0.2)"
      ],
      "execution_count": 47,
      "outputs": [
        {
          "output_type": "stream",
          "text": [
            "Train on 80 samples, validate on 20 samples\n",
            "Epoch 1/3\n",
            "80/80 [==============================] - 1s 8ms/step - loss: 1.3973 - acc: 0.3000 - val_loss: 0.8428 - val_acc: 0.4500\n",
            "Epoch 2/3\n",
            "80/80 [==============================] - 0s 448us/step - loss: 0.8969 - acc: 0.3875 - val_loss: 0.6257 - val_acc: 0.7500\n",
            "Epoch 3/3\n",
            "80/80 [==============================] - 0s 413us/step - loss: 0.7025 - acc: 0.6875 - val_loss: 0.4872 - val_acc: 0.8500\n"
          ],
          "name": "stdout"
        }
      ]
    },
    {
      "metadata": {
        "colab_type": "code",
        "outputId": "d88396ba-638f-49f2-9ddb-0c8b51dfc60d",
        "id": "wMANzlzRS5uo",
        "colab": {
          "base_uri": "https://localhost:8080/",
          "height": 68
        }
      },
      "cell_type": "code",
      "source": [
        "score = model.evaluate(X_normalized_test, y_one_hot_test)\n",
        "print('Test loss:', score[0])\n",
        "print('Test accuracy:', score[1])"
      ],
      "execution_count": 48,
      "outputs": [
        {
          "output_type": "stream",
          "text": [
            "\r20/20 [==============================] - 0s 188us/step\n",
            "Test loss: 0.7005804181098938\n",
            "Test accuracy: 0.75\n"
          ],
          "name": "stdout"
        }
      ]
    },
    {
      "metadata": {
        "colab_type": "text",
        "id": "3CboQul4ULQq"
      },
      "cell_type": "markdown",
      "source": [
        "## Dropout in Keras"
      ]
    },
    {
      "metadata": {
        "colab_type": "code",
        "id": "kkO8EwdjULQt",
        "colab": {}
      },
      "cell_type": "code",
      "source": [
        "# Setup Keras\n",
        "from keras.models import Sequential\n",
        "from keras.layers.core import Dense, Activation, Flatten, Dropout\n",
        "from keras.layers.convolutional import Conv2D\n",
        "from keras.layers.pooling import MaxPooling2D"
      ],
      "execution_count": 0,
      "outputs": []
    },
    {
      "metadata": {
        "colab_type": "code",
        "id": "NKvBFkecULQx",
        "colab": {}
      },
      "cell_type": "code",
      "source": [
        "# TODO: Build Convolutional Neural Network in Keras Here\n",
        "model = Sequential()\n",
        "model.add(Conv2D(32, (3, 3), padding='valid', activation='relu', input_shape=(32, 32, 3)))\n",
        "model.add(MaxPooling2D(pool_size=(2, 2)))\n",
        "model.add(Dropout(0.50))\n",
        "model.add(Flatten())\n",
        "model.add(Dense(128, activation='relu'))\n",
        "model.add(Dense(5, activation='softmax'))"
      ],
      "execution_count": 0,
      "outputs": []
    },
    {
      "metadata": {
        "colab_type": "code",
        "outputId": "19de63a4-b596-42ef-d3fd-aa73db951914",
        "id": "i4u4zJ7QULQ2",
        "colab": {
          "base_uri": "https://localhost:8080/",
          "height": 306
        }
      },
      "cell_type": "code",
      "source": [
        "model.compile('adam', 'categorical_crossentropy', ['accuracy'])\n",
        "# TODO: change the number of training epochs to 3\n",
        "history = model.fit(X_normalized, y_one_hot, epochs=8, validation_split=0.2)"
      ],
      "execution_count": 56,
      "outputs": [
        {
          "output_type": "stream",
          "text": [
            "Train on 80 samples, validate on 20 samples\n",
            "Epoch 1/8\n",
            "80/80 [==============================] - 1s 11ms/step - loss: 0.4419 - acc: 0.8500 - val_loss: 0.1372 - val_acc: 0.8500\n",
            "Epoch 2/8\n",
            "80/80 [==============================] - 0s 394us/step - loss: 0.1946 - acc: 0.8875 - val_loss: 0.1097 - val_acc: 1.0000\n",
            "Epoch 3/8\n",
            "80/80 [==============================] - 0s 362us/step - loss: 0.1683 - acc: 0.9500 - val_loss: 0.0897 - val_acc: 1.0000\n",
            "Epoch 4/8\n",
            "80/80 [==============================] - 0s 347us/step - loss: 0.1146 - acc: 1.0000 - val_loss: 0.0952 - val_acc: 1.0000\n",
            "Epoch 5/8\n",
            "80/80 [==============================] - 0s 361us/step - loss: 0.1246 - acc: 0.9875 - val_loss: 0.0846 - val_acc: 1.0000\n",
            "Epoch 6/8\n",
            "80/80 [==============================] - 0s 353us/step - loss: 0.1479 - acc: 0.9125 - val_loss: 0.0644 - val_acc: 1.0000\n",
            "Epoch 7/8\n",
            "80/80 [==============================] - 0s 356us/step - loss: 0.1329 - acc: 0.9625 - val_loss: 0.0671 - val_acc: 1.0000\n",
            "Epoch 8/8\n",
            "80/80 [==============================] - 0s 344us/step - loss: 0.0873 - acc: 0.9750 - val_loss: 0.0888 - val_acc: 1.0000\n"
          ],
          "name": "stdout"
        }
      ]
    },
    {
      "metadata": {
        "colab_type": "code",
        "outputId": "73fb1fcf-5a04-4eae-fea9-36d329636121",
        "id": "qBojpsiCULRA",
        "colab": {
          "base_uri": "https://localhost:8080/",
          "height": 68
        }
      },
      "cell_type": "code",
      "source": [
        "score = model.evaluate(X_normalized_test, y_one_hot_test)\n",
        "print('Test loss:', score[0])\n",
        "print('Test accuracy:', score[1])"
      ],
      "execution_count": 57,
      "outputs": [
        {
          "output_type": "stream",
          "text": [
            "\r20/20 [==============================] - 0s 212us/step\n",
            "Test loss: 0.1545034497976303\n",
            "Test accuracy: 1.0\n"
          ],
          "name": "stdout"
        }
      ]
    },
    {
      "metadata": {
        "id": "5x9xx-drWhYE",
        "colab_type": "text"
      },
      "cell_type": "markdown",
      "source": [
        "## Testing in Keras"
      ]
    },
    {
      "metadata": {
        "id": "-XwtQDsbWcvf",
        "colab_type": "code",
        "colab": {
          "base_uri": "https://localhost:8080/",
          "height": 85
        },
        "outputId": "1f4873c5-dca1-41a0-8114-f560ff932ae8"
      },
      "cell_type": "code",
      "source": [
        "# evaluate model against the test data\n",
        "with open('small_test_traffic.p', 'rb') as f:\n",
        "    data_test = pickle.load(f)\n",
        "\n",
        "X_test = data_test['features']\n",
        "y_test = data_test['labels']\n",
        "\n",
        "# preprocess data\n",
        "X_normalized_test = np.array(X_test / 255.0 - 0.5 )\n",
        "y_one_hot_test = label_binarizer.fit_transform(y_test)\n",
        "\n",
        "print(\"Testing\")\n",
        "\n",
        "metrics = model.evaluate(X_normalized_test, y_one_hot_test)\n",
        "for metric_i in range(len(model.metrics_names)):\n",
        "    metric_name = model.metrics_names[metric_i]\n",
        "    metric_value = metrics[metric_i]\n",
        "    print('{}: {}'.format(metric_name, metric_value))    "
      ],
      "execution_count": 58,
      "outputs": [
        {
          "output_type": "stream",
          "text": [
            "Testing\n",
            "\r20/20 [==============================] - 0s 257us/step\n",
            "loss: 0.1545034497976303\n",
            "acc: 1.0\n"
          ],
          "name": "stdout"
        }
      ]
    }
  ]
}